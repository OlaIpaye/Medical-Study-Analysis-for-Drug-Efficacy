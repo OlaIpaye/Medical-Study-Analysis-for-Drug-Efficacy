{
 "cells": [
  {
   "cell_type": "markdown",
   "id": "44c0d16a-7e0f-486a-a5c5-33f721fc8a28",
   "metadata": {},
   "source": [
    "# **Medical Study Analysis for Drug Eficacy**"
   ]
  },
  {
   "cell_type": "code",
   "execution_count": null,
   "id": "57652d57-4445-4d42-aae6-91dd969d4f1a",
   "metadata": {},
   "outputs": [],
   "source": []
  },
  {
   "cell_type": "code",
   "execution_count": 6,
   "id": "107133c1-d009-4358-b145-833559ba22e1",
   "metadata": {},
   "outputs": [],
   "source": [
    "# Import libraries\n",
    "import pandas as pd\n",
    "import matplotlib.pyplot as plt\n",
    "from scipy.stats import ttest_ind"
   ]
  },
  {
   "cell_type": "code",
   "execution_count": 7,
   "id": "e6d6aeac-264f-4a4b-ba94-7ed2da1de878",
   "metadata": {},
   "outputs": [
    {
     "data": {
      "text/html": [
       "<div>\n",
       "<style scoped>\n",
       "    .dataframe tbody tr th:only-of-type {\n",
       "        vertical-align: middle;\n",
       "    }\n",
       "\n",
       "    .dataframe tbody tr th {\n",
       "        vertical-align: top;\n",
       "    }\n",
       "\n",
       "    .dataframe thead th {\n",
       "        text-align: right;\n",
       "    }\n",
       "</style>\n",
       "<table border=\"1\" class=\"dataframe\">\n",
       "  <thead>\n",
       "    <tr style=\"text-align: right;\">\n",
       "      <th></th>\n",
       "      <th>Treatment</th>\n",
       "      <th>Blood_Pressure_Reduction</th>\n",
       "    </tr>\n",
       "  </thead>\n",
       "  <tbody>\n",
       "    <tr>\n",
       "      <th>0</th>\n",
       "      <td>Standard</td>\n",
       "      <td>6.852355</td>\n",
       "    </tr>\n",
       "    <tr>\n",
       "      <th>1</th>\n",
       "      <td>Standard</td>\n",
       "      <td>8.818833</td>\n",
       "    </tr>\n",
       "    <tr>\n",
       "      <th>2</th>\n",
       "      <td>Standard</td>\n",
       "      <td>2.202865</td>\n",
       "    </tr>\n",
       "    <tr>\n",
       "      <th>3</th>\n",
       "      <td>Standard</td>\n",
       "      <td>6.125938</td>\n",
       "    </tr>\n",
       "    <tr>\n",
       "      <th>4</th>\n",
       "      <td>Standard</td>\n",
       "      <td>3.698715</td>\n",
       "    </tr>\n",
       "    <tr>\n",
       "      <th>...</th>\n",
       "      <td>...</td>\n",
       "      <td>...</td>\n",
       "    </tr>\n",
       "    <tr>\n",
       "      <th>495</th>\n",
       "      <td>New</td>\n",
       "      <td>6.437799</td>\n",
       "    </tr>\n",
       "    <tr>\n",
       "      <th>496</th>\n",
       "      <td>New</td>\n",
       "      <td>10.595373</td>\n",
       "    </tr>\n",
       "    <tr>\n",
       "      <th>497</th>\n",
       "      <td>New</td>\n",
       "      <td>8.281686</td>\n",
       "    </tr>\n",
       "    <tr>\n",
       "      <th>498</th>\n",
       "      <td>New</td>\n",
       "      <td>5.857642</td>\n",
       "    </tr>\n",
       "    <tr>\n",
       "      <th>499</th>\n",
       "      <td>New</td>\n",
       "      <td>8.145166</td>\n",
       "    </tr>\n",
       "  </tbody>\n",
       "</table>\n",
       "<p>500 rows × 2 columns</p>\n",
       "</div>"
      ],
      "text/plain": [
       "    Treatment  Blood_Pressure_Reduction\n",
       "0    Standard                  6.852355\n",
       "1    Standard                  8.818833\n",
       "2    Standard                  2.202865\n",
       "3    Standard                  6.125938\n",
       "4    Standard                  3.698715\n",
       "..        ...                       ...\n",
       "495       New                  6.437799\n",
       "496       New                 10.595373\n",
       "497       New                  8.281686\n",
       "498       New                  5.857642\n",
       "499       New                  8.145166\n",
       "\n",
       "[500 rows x 2 columns]"
      ]
     },
     "execution_count": 7,
     "metadata": {},
     "output_type": "execute_result"
    }
   ],
   "source": [
    "# load dataset\n",
    "df = pd.read_csv(\"..//Python coding//med_study.csv\")\n",
    "df"
   ]
  },
  {
   "cell_type": "code",
   "execution_count": 8,
   "id": "4fc7105e-f896-4f26-86d2-4e5facf85d84",
   "metadata": {},
   "outputs": [
    {
     "data": {
      "text/html": [
       "<div>\n",
       "<style scoped>\n",
       "    .dataframe tbody tr th:only-of-type {\n",
       "        vertical-align: middle;\n",
       "    }\n",
       "\n",
       "    .dataframe tbody tr th {\n",
       "        vertical-align: top;\n",
       "    }\n",
       "\n",
       "    .dataframe thead th {\n",
       "        text-align: right;\n",
       "    }\n",
       "</style>\n",
       "<table border=\"1\" class=\"dataframe\">\n",
       "  <thead>\n",
       "    <tr style=\"text-align: right;\">\n",
       "      <th></th>\n",
       "      <th>Blood_Pressure_Reduction</th>\n",
       "    </tr>\n",
       "  </thead>\n",
       "  <tbody>\n",
       "    <tr>\n",
       "      <th>count</th>\n",
       "      <td>500.000000</td>\n",
       "    </tr>\n",
       "    <tr>\n",
       "      <th>mean</th>\n",
       "      <td>6.063652</td>\n",
       "    </tr>\n",
       "    <tr>\n",
       "      <th>std</th>\n",
       "      <td>2.285906</td>\n",
       "    </tr>\n",
       "    <tr>\n",
       "      <th>min</th>\n",
       "      <td>-0.393773</td>\n",
       "    </tr>\n",
       "    <tr>\n",
       "      <th>25%</th>\n",
       "      <td>4.461729</td>\n",
       "    </tr>\n",
       "    <tr>\n",
       "      <th>50%</th>\n",
       "      <td>5.973330</td>\n",
       "    </tr>\n",
       "    <tr>\n",
       "      <th>75%</th>\n",
       "      <td>7.546879</td>\n",
       "    </tr>\n",
       "    <tr>\n",
       "      <th>max</th>\n",
       "      <td>12.264764</td>\n",
       "    </tr>\n",
       "  </tbody>\n",
       "</table>\n",
       "</div>"
      ],
      "text/plain": [
       "       Blood_Pressure_Reduction\n",
       "count                500.000000\n",
       "mean                   6.063652\n",
       "std                    2.285906\n",
       "min                   -0.393773\n",
       "25%                    4.461729\n",
       "50%                    5.973330\n",
       "75%                    7.546879\n",
       "max                   12.264764"
      ]
     },
     "execution_count": 8,
     "metadata": {},
     "output_type": "execute_result"
    }
   ],
   "source": [
    "# Summary Stats\n",
    "df.describe()"
   ]
  },
  {
   "cell_type": "code",
   "execution_count": 9,
   "id": "ee60e9a2-941f-49f9-b17d-adddeb3d9b4c",
   "metadata": {},
   "outputs": [
    {
     "name": "stdout",
     "output_type": "stream",
     "text": [
      "<class 'pandas.core.frame.DataFrame'>\n",
      "RangeIndex: 500 entries, 0 to 499\n",
      "Data columns (total 2 columns):\n",
      " #   Column                    Non-Null Count  Dtype  \n",
      "---  ------                    --------------  -----  \n",
      " 0   Treatment                 500 non-null    object \n",
      " 1   Blood_Pressure_Reduction  500 non-null    float64\n",
      "dtypes: float64(1), object(1)\n",
      "memory usage: 7.9+ KB\n"
     ]
    }
   ],
   "source": [
    "# View dataset data types and structure\n",
    "df.info()"
   ]
  },
  {
   "cell_type": "code",
   "execution_count": 13,
   "id": "02ebe3a5-8923-424f-ab79-edeea71deb46",
   "metadata": {},
   "outputs": [
    {
     "data": {
      "text/html": [
       "<div>\n",
       "<style scoped>\n",
       "    .dataframe tbody tr th:only-of-type {\n",
       "        vertical-align: middle;\n",
       "    }\n",
       "\n",
       "    .dataframe tbody tr th {\n",
       "        vertical-align: top;\n",
       "    }\n",
       "\n",
       "    .dataframe thead th {\n",
       "        text-align: right;\n",
       "    }\n",
       "</style>\n",
       "<table border=\"1\" class=\"dataframe\">\n",
       "  <thead>\n",
       "    <tr style=\"text-align: right;\">\n",
       "      <th></th>\n",
       "      <th>Treatment</th>\n",
       "      <th>Blood_Pressure_Reduction</th>\n",
       "    </tr>\n",
       "  </thead>\n",
       "  <tbody>\n",
       "    <tr>\n",
       "      <th>146</th>\n",
       "      <td>Standard</td>\n",
       "      <td>-0.393773</td>\n",
       "    </tr>\n",
       "    <tr>\n",
       "      <th>168</th>\n",
       "      <td>Standard</td>\n",
       "      <td>-0.301940</td>\n",
       "    </tr>\n",
       "  </tbody>\n",
       "</table>\n",
       "</div>"
      ],
      "text/plain": [
       "    Treatment  Blood_Pressure_Reduction\n",
       "146  Standard                 -0.393773\n",
       "168  Standard                 -0.301940"
      ]
     },
     "execution_count": 13,
     "metadata": {},
     "output_type": "execute_result"
    }
   ],
   "source": [
    "# checking for missing values\n",
    "# df.isnull().sum() # 0 - none missing\n",
    "# checking for invalid values\n",
    "invalid_blood_pressure = df[df[\"Blood_Pressure_Reduction\"] <= 0]\n",
    "invalid_blood_pressure"
   ]
  },
  {
   "cell_type": "code",
   "execution_count": null,
   "id": "c95e76e3-7295-4c03-81aa-de91c41fc131",
   "metadata": {},
   "outputs": [],
   "source": []
  },
  {
   "cell_type": "markdown",
   "id": "00404c25-7873-42dc-9469-d19fa53b49ec",
   "metadata": {},
   "source": [
    "### **Checking \"Blood_Pressure_Reduction\" column distribution using a histogram**"
   ]
  },
  {
   "cell_type": "code",
   "execution_count": 14,
   "id": "c28b5e75-cda7-4385-bb0e-36d802c5b747",
   "metadata": {},
   "outputs": [
    {
     "data": {
      "image/png": "[encoded data removed]",
      "text/plain": [
       "<Figure size 1000x600 with 1 Axes>"
      ]
     },
     "metadata": {},
     "output_type": "display_data"
    }
   ],
   "source": [
    "# checking coloumn distribution using a histogram\n",
    "plt.figure(figsize=(10, 6))\n",
    "plt.hist(df[\"Blood_Pressure_Reduction\"], bins=30, color=\"skyblue\", edgecolor=\"black\")\n",
    "plt.title(\"Distribution of Blood Pressure Reduction\")\n",
    "plt.xlabel(\"Blood Pressure Reduction\")\n",
    "plt.ylabel(\"Frequency\")\n",
    "plt.show()"
   ]
  },
  {
   "cell_type": "code",
   "execution_count": 15,
   "id": "85e0cee1-05f9-4108-a514-ab17443fac31",
   "metadata": {},
   "outputs": [
    {
     "data": {
      "text/plain": [
       "count    500.000000\n",
       "mean       6.063652\n",
       "std        2.285906\n",
       "min       -0.393773\n",
       "25%        4.461729\n",
       "50%        5.973330\n",
       "75%        7.546879\n",
       "max       12.264764\n",
       "Name: Blood_Pressure_Reduction, dtype: float64"
      ]
     },
     "execution_count": 15,
     "metadata": {},
     "output_type": "execute_result"
    }
   ],
   "source": [
    "df[\"Blood_Pressure_Reduction\"].describe()"
   ]
  },
  {
   "cell_type": "code",
   "execution_count": 16,
   "id": "484f4657-e52b-46ae-a83a-2e46669ab50c",
   "metadata": {},
   "outputs": [
    {
     "data": {
      "text/plain": [
       "count          500\n",
       "unique           2\n",
       "top       Standard\n",
       "freq           250\n",
       "Name: Treatment, dtype: object"
      ]
     },
     "execution_count": 16,
     "metadata": {},
     "output_type": "execute_result"
    }
   ],
   "source": [
    "df[\"Treatment\"].describe()"
   ]
  },
  {
   "cell_type": "code",
   "execution_count": 18,
   "id": "4dc1000e-f049-4245-9357-ec8224108d10",
   "metadata": {},
   "outputs": [
    {
     "data": {
      "text/plain": [
       "Treatment\n",
       "Standard    250\n",
       "New         250\n",
       "Name: count, dtype: int64"
      ]
     },
     "execution_count": 18,
     "metadata": {},
     "output_type": "execute_result"
    }
   ],
   "source": [
    "df[\"Treatment\"].value_counts()"
   ]
  },
  {
   "cell_type": "markdown",
   "id": "1c685cd1-6f23-4176-b295-6cce624e53bd",
   "metadata": {},
   "source": [
    "### **Calculating the mean for both groups, New and Standard**"
   ]
  },
  {
   "cell_type": "code",
   "execution_count": 25,
   "id": "1d7b8880-de0d-4b8f-958b-cc62569f5aa3",
   "metadata": {},
   "outputs": [
    {
     "name": "stdout",
     "output_type": "stream",
     "text": [
      "7.26\n"
     ]
    }
   ],
   "source": [
    "mean_new = df.groupby(\"Treatment\")[\"Blood_Pressure_Reduction\"].mean().loc[\"New\"]\n",
    "mean_new = round(mean_new, 2)\n",
    "print(mean_new)"
   ]
  },
  {
   "cell_type": "code",
   "execution_count": 26,
   "id": "5eaa7bc5-03f1-4a92-949e-3709d92be322",
   "metadata": {},
   "outputs": [
    {
     "name": "stdout",
     "output_type": "stream",
     "text": [
      "4.87\n"
     ]
    }
   ],
   "source": [
    "mean_standard = df.groupby(\"Treatment\")[\"Blood_Pressure_Reduction\"].mean().loc[\"Standard\"]\n",
    "mean_standard = round(mean_standard, 2)\n",
    "print(mean_standard)"
   ]
  },
  {
   "cell_type": "code",
   "execution_count": 28,
   "id": "bebb7e96-3c9a-4722-a994-2d1c84e31a1f",
   "metadata": {},
   "outputs": [],
   "source": [
    "# Mean blood pressure reduction values for the two groups\n",
    "mean_new = 7.26\n",
    "mean_standard = 4.87"
   ]
  },
  {
   "cell_type": "markdown",
   "id": "64876e06-f2df-41ee-86fd-b8df3045034e",
   "metadata": {},
   "source": [
    "### **Visualising the Mean blood pressure reduction values for the two treatment groups**"
   ]
  },
  {
   "cell_type": "code",
   "execution_count": 32,
   "id": "02636a80-a5b5-4181-9ca7-399890af4e8f",
   "metadata": {},
   "outputs": [
    {
     "data": {
      "image/png": "[encoded data removed]",
      "text/plain": [
       "<Figure size 800x600 with 1 Axes>"
      ]
     },
     "metadata": {},
     "output_type": "display_data"
    }
   ],
   "source": [
    "# Data for plotting the means\n",
    "treatments = [\"New\", \"Standard\"]\n",
    "means = [mean_new, mean_standard]\n",
    "\n",
    "# Plotting\n",
    "plt.figure(figsize=(8, 6))\n",
    "plt.bar(treatments, means, color=[\"skyblue\", \"salmon\"], width=0.5)\n",
    "plt.title(\"Mean Blood Pressure Reduction by Treatment\")\n",
    "plt.xlabel(\"Treatment\")\n",
    "plt.ylabel(\"Mean Blood Pressure Reduction\")\n",
    "plt.ylim(0, max(means) + 1)  # Adjust y-axis limit for visibility\n",
    "plt.text(0, mean_new + 0.2, f\"{mean_new:.2f}\", ha='center', color='black')\n",
    "plt.text(1, mean_standard + 0.2, f\"{mean_standard:.2f}\", ha='center', color='black')\n",
    "\n",
    "# Show plot\n",
    "plt.show()"
   ]
  },
  {
   "cell_type": "markdown",
   "id": "177f309d-06e0-486f-82de-52ede708b5a4",
   "metadata": {},
   "source": [
    "### **Calculating the standard deviation for the two treatment groups**"
   ]
  },
  {
   "cell_type": "code",
   "execution_count": 36,
   "id": "165a2cbe-6948-4c54-b916-26c8222f20cb",
   "metadata": {},
   "outputs": [
    {
     "name": "stdout",
     "output_type": "stream",
     "text": [
      "1.92\n"
     ]
    }
   ],
   "source": [
    "std_new = df.groupby(\"Treatment\")[\"Blood_Pressure_Reduction\"].std().loc[\"New\"]\n",
    "std_new = round(std_new, 2)\n",
    "print(std_new)"
   ]
  },
  {
   "cell_type": "code",
   "execution_count": 37,
   "id": "83f24a6b-2667-405b-8729-f9581a7d30a4",
   "metadata": {},
   "outputs": [
    {
     "name": "stdout",
     "output_type": "stream",
     "text": [
      "1.98\n"
     ]
    }
   ],
   "source": [
    "std_standard = df.groupby(\"Treatment\")[\"Blood_Pressure_Reduction\"].std().loc[\"Standard\"]\n",
    "std_standard = round(std_standard, 2)\n",
    "print(std_standard)"
   ]
  },
  {
   "cell_type": "markdown",
   "id": "758b2f68-c984-4970-9203-fbb6f06c5a7f",
   "metadata": {},
   "source": [
    "### **Getting the sample size for the two treatment groups**"
   ]
  },
  {
   "cell_type": "code",
   "execution_count": 43,
   "id": "8e16a9f6-79c8-40d6-8468-8b24a502751b",
   "metadata": {},
   "outputs": [
    {
     "name": "stdout",
     "output_type": "stream",
     "text": [
      "250\n",
      "250\n"
     ]
    }
   ],
   "source": [
    "sample_size_new = df.groupby(\"Treatment\")[\"Blood_Pressure_Reduction\"].count().loc[\"New\"]\n",
    "print(sample_size_new) # 250 values\n",
    "\n",
    "sample_size_standard = df.groupby(\"Treatment\")[\"Blood_Pressure_Reduction\"].count().loc[\"Standard\"]\n",
    "print(sample_size_standard) # 250 values"
   ]
  },
  {
   "cell_type": "markdown",
   "id": "5853713c-0c55-4f06-87b0-3eeada022a5b",
   "metadata": {},
   "source": [
    "### **Extracting individual BPR values for the two treatment groups**"
   ]
  },
  {
   "cell_type": "code",
   "execution_count": 61,
   "id": "d2b93778-efe3-4b31-9d26-8df5b51e3653",
   "metadata": {},
   "outputs": [
    {
     "name": "stdout",
     "output_type": "stream",
     "text": [
      "Sample size for the Standard treatment group: [6.8523551  8.81883328 2.20286485 6.12593847 3.69871486]\n",
      "Sample size for the New treatment group: [5.15353351 4.29663079 5.04825349 9.10728359 5.10120222]\n"
     ]
    }
   ],
   "source": [
    "standard_values = df[df[\"Treatment\"] == \"Standard\"][\"Blood_Pressure_Reduction\"].values\n",
    "print(f\"Sample size for the Standard treatment group: {standard_values[:5]}\") # checking for first 5 values as list\n",
    "\n",
    "new_values = df[df[\"Treatment\"] == \"New\"][\"Blood_Pressure_Reduction\"].values\n",
    "print(f\"Sample size for the New treatment group: {new_values[:5]}\") # checking for first 5 values as list"
   ]
  },
  {
   "cell_type": "markdown",
   "id": "838d6b15-dd04-461c-ae66-aa6a8231602d",
   "metadata": {},
   "source": [
    "### **Performing t-test and p-value for the two treatment groups**"
   ]
  },
  {
   "cell_type": "code",
   "execution_count": 58,
   "id": "579654e1-29a5-4e14-a892-cb6d3490ed03",
   "metadata": {},
   "outputs": [
    {
     "name": "stdout",
     "output_type": "stream",
     "text": [
      "T-Statistic: -13.76\n",
      "P-Value: 0.0\n"
     ]
    }
   ],
   "source": [
    "t_stat,p_value = ttest_ind(standard_values, new_values)\n",
    "\n",
    "print(f\"T-Statistic: {round(t_stat, 2)}\")\n",
    "print(f\"P-Value: {round(p_value, 2)}\")"
   ]
  },
  {
   "cell_type": "markdown",
   "id": "fa4877ad-359d-4a36-b8f3-950776c7bfb3",
   "metadata": {},
   "source": [
    "### **Visualising the Mean blood pressure reduction values for the two treatment groups**"
   ]
  },
  {
   "cell_type": "code",
   "execution_count": 66,
   "id": "670e4fd8-3491-47e6-8a10-2ca10d9e9d89",
   "metadata": {},
   "outputs": [
    {
     "name": "stderr",
     "output_type": "stream",
     "text": [
      "C:\\Users\\44756\\AppData\\Local\\Temp\\ipykernel_31388\\2499352737.py:7: MatplotlibDeprecationWarning: The 'labels' parameter of boxplot() has been renamed 'tick_labels' since Matplotlib 3.9; support for the old name will be dropped in 3.11.\n",
      "  plt.boxplot(data, labels=labels, patch_artist=True, widths=0.6)\n"
     ]
    },
    {
     "data": {
      "image/png": "[encoded data removed]",
      "text/plain": [
       "<Figure size 1000x600 with 1 Axes>"
      ]
     },
     "metadata": {},
     "output_type": "display_data"
    }
   ],
   "source": [
    "# Data preparation\n",
    "data = [standard_values, new_values]\n",
    "labels = ['Standard', 'New']\n",
    "\n",
    "# Plotting\n",
    "plt.figure(figsize=(10, 6))\n",
    "plt.boxplot(data, labels=labels, patch_artist=True, widths=0.6)\n",
    "plt.title(\"Blood Pressure Reduction by Treatment Group\")\n",
    "plt.xlabel(\"Treatment\")\n",
    "plt.ylabel(\"Blood Pressure Reduction\")\n",
    "plt.grid(True)\n",
    "\n",
    "# Show plot\n",
    "plt.show()"
   ]
  },
  {
   "cell_type": "code",
   "execution_count": null,
   "id": "4fc7c435-32b4-48bf-8e9d-80e1db527afa",
   "metadata": {},
   "outputs": [],
   "source": []
  },
  {
   "cell_type": "markdown",
   "id": "1773bdd4-cc05-4eef-b1ca-73eeecc2a6bb",
   "metadata": {},
   "source": [
    "## **Testing Interpretation for Blood Pressure Reduction**\n",
    "\n",
    "* #### Significant Difference: The low p-value (0.0) and large negative t-statistic (-13.76) indicate a significant difference in blood pressure reduction between the Standard and New treatments.\n",
    "* #### Effectiveness: Since the t-statistic is negative, this implies that the New treatment group has a greater blood pressure reduction compared to the Standard treatment group as illustrated above in the box plot.\n",
    "\n",
    "### In summary, the **New treatment is statistically and practically more effective than the Standard treatment in reducing blood pressure.**"
   ]
  },
  {
   "cell_type": "code",
   "execution_count": null,
   "id": "c6afef67-0a4f-4f26-866b-db729af0355c",
   "metadata": {},
   "outputs": [],
   "source": []
  }
 ],
 "metadata": {
  "kernelspec": {
   "display_name": "Python 3 (ipykernel)",
   "language": "python",
   "name": "python3"
  },
  "language_info": {
   "codemirror_mode": {
    "name": "ipython",
    "version": 3
   },
   "file_extension": ".py",
   "mimetype": "text/x-python",
   "name": "python",
   "nbconvert_exporter": "python",
   "pygments_lexer": "ipython3",
   "version": "3.11.3"
  }
 },
 "nbformat": 4,
 "nbformat_minor": 5
}
